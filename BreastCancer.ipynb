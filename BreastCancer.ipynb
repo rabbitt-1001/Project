{
  "nbformat": 4,
  "nbformat_minor": 0,
  "metadata": {
    "colab": {
      "provenance": []
    },
    "kernelspec": {
      "name": "python3",
      "display_name": "Python 3"
    },
    "language_info": {
      "name": "python"
    }
  },
  "cells": [
    {
      "cell_type": "code",
      "source": [
        "from sklearn.datasets import load_breast_cancer\n",
        "from sklearn.model_selection import train_test_split\n",
        "from sklearn.naive_bayes import GaussianNB\n",
        "from sklearn.linear_model import LinearRegression\n",
        "from sklearn.metrics import accuracy_score"
      ],
      "metadata": {
        "id": "rK90xnsZZU8n"
      },
      "execution_count": null,
      "outputs": []
    },
    {
      "cell_type": "code",
      "source": [
        "data = load_breast_cancer()\n",
        "label_names = data[\"target_names\"]\n",
        "labels = data[\"target\"]\n",
        "feature_names = data[\"feature_names\"]\n",
        "features = data[\"data\"]"
      ],
      "metadata": {
        "id": "JQRHzs2SZXiQ"
      },
      "execution_count": null,
      "outputs": []
    },
    {
      "cell_type": "code",
      "source": [
        "print(label_names)\n",
        "print(\"Class label :\", labels[0])\n",
        "print(feature_names)\n",
        "print(features[0], \"\\n\")"
      ],
      "metadata": {
        "id": "u2i-fIclZZho"
      },
      "execution_count": null,
      "outputs": []
    },
    {
      "cell_type": "code",
      "source": [
        "train, test, train_labels, test_labels = train_test_split(features, labels,\n",
        "                                                          test_size=0.15,\n",
        "                                                          random_state=25)"
      ],
      "metadata": {
        "id": "5s9R1q9GZdrS"
      },
      "execution_count": null,
      "outputs": []
    },
    {
      "cell_type": "code",
      "source": [
        "gnb = GaussianNB()\n",
        "gnb.fit(train, train_labels)"
      ],
      "metadata": {
        "id": "6HsG_372Zeb2"
      },
      "execution_count": null,
      "outputs": []
    },
    {
      "cell_type": "code",
      "source": [
        "preds = gnb.predict(test)\n",
        "print(preds, \"\\n\")"
      ],
      "metadata": {
        "id": "FT9b3LSlZir6"
      },
      "execution_count": null,
      "outputs": []
    },
    {
      "cell_type": "code",
      "source": [
        "print(accuracy_score(test_labels, preds))"
      ],
      "metadata": {
        "id": "6ILUaG1BZn5m"
      },
      "execution_count": null,
      "outputs": []
    }
  ]
}