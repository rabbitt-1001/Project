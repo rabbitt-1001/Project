{
  "nbformat": 4,
  "nbformat_minor": 0,
  "metadata": {
    "colab": {
      "provenance": []
    },
    "kernelspec": {
      "name": "python3",
      "display_name": "Python 3"
    },
    "language_info": {
      "name": "python"
    }
  },
  "cells": [
    {
      "cell_type": "code",
      "execution_count": null,
      "metadata": {
        "id": "Adc3C581Vo64"
      },
      "outputs": [],
      "source": [
        "import tensorflow as tf\n",
        "from tensorflow import keras\n",
        "import numpy as np\n",
        "import matplotlib.pyplot as plt\n",
        "fashion = keras.datasets.fashion_mnist\n",
        "(xtrain, ytrain), (xtest, ytest) = fashion.load_data()"
      ]
    },
    {
      "cell_type": "code",
      "source": [
        "imgIndex = 9\n",
        "image = xtrain[imgIndex]\n",
        "print(\"Image Label :\",ytrain[imgIndex])\n",
        "plt.imshow(image)"
      ],
      "metadata": {
        "id": "rGOWfc7cVquB"
      },
      "execution_count": null,
      "outputs": []
    },
    {
      "cell_type": "code",
      "source": [
        "print(xtrain.shape)\n",
        "print(xtest.shape)"
      ],
      "metadata": {
        "id": "aOLjQJQmVtPv"
      },
      "execution_count": null,
      "outputs": []
    },
    {
      "cell_type": "code",
      "source": [
        "model = keras.models.Sequential([\n",
        "    keras.layers.Flatten(input_shape=[28, 28]),\n",
        "    keras.layers.Dense(300, activation=\"relu\"),\n",
        "    keras.layers.Dense(100, activation=\"relu\"),\n",
        "    keras.layers.Dense(10, activation=\"softmax\")\n",
        "])\n",
        "print(model.summary())"
      ],
      "metadata": {
        "id": "-QoZOVDBVxP_"
      },
      "execution_count": null,
      "outputs": []
    },
    {
      "cell_type": "code",
      "source": [
        "xvalid, xtrain = xtrain[:5000]/255.0, xtrain[5000:]/255.0\n",
        "yvalid, ytrain = ytrain[:5000], ytrain[5000:]"
      ],
      "metadata": {
        "id": "5-fYTAfkV07C"
      },
      "execution_count": null,
      "outputs": []
    },
    {
      "cell_type": "code",
      "source": [
        "model.compile(loss=\"sparse_categorical_crossentropy\",\n",
        "              optimizer=\"sgd\",\n",
        "              metrics=[\"accuracy\"])\n",
        "history = model.fit(xtrain, ytrain, epochs=30,\n",
        "                    validation_data=(xvalid, yvalid))"
      ],
      "metadata": {
        "id": "klDsqsdbV3pm"
      },
      "execution_count": null,
      "outputs": []
    },
    {
      "cell_type": "code",
      "source": [
        "new = xtest[:5]\n",
        "predictions = model.predict(new)\n",
        "print(predictions)"
      ],
      "metadata": {
        "id": "FQS7SI4CV79_"
      },
      "execution_count": null,
      "outputs": []
    },
    {
      "cell_type": "code",
      "source": [
        "classes = np.argmax(predictions, axis=1)\n",
        "print(classes)"
      ],
      "metadata": {
        "id": "_vqMd5XiV-qy"
      },
      "execution_count": null,
      "outputs": []
    }
  ]
}